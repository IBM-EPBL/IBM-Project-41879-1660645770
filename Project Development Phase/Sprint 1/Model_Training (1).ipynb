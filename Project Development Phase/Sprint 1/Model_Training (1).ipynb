{
  "nbformat": 4,
  "nbformat_minor": 0,
  "metadata": {
    "colab": {
      "provenance": [],
      "collapsed_sections": []
    },
    "kernelspec": {
      "name": "python3",
      "display_name": "Python 3"
    },
    "language_info": {
      "name": "python"
    }
  },
  "cells": [
    {
      "cell_type": "markdown",
      "source": [
        "**Model Training**"
      ],
      "metadata": {
        "id": "5b3T7Dzrqc7S"
      }
    },
    {
      "cell_type": "code",
      "source": [
        "import numpy as np\n",
        "import tensorflow as tf\n",
        "from tensorflow.keras.models import Sequential \n",
        "from tensorflow.keras.layers import Dense,Flatten, Dropout\n",
        "from tensorflow.keras.layers import Convolution2D,MaxPooling2D  \n",
        "from tensorflow.keras.preprocessing.image import ImageDataGenerator"
      ],
      "metadata": {
        "id": "k1FIuAYQlTo8"
      },
      "execution_count": null,
      "outputs": []
    },
    {
      "cell_type": "code",
      "source": [
        "train_datagen = ImageDataGenerator(rescale=1./255,\n",
        "                                   shear_range=0.2,\n",
        "                                   zoom_range=0.2,\n",
        "                                   horizontal_flip=True)\n",
        "test_datagen=ImageDataGenerator(rescale=1./255)"
      ],
      "metadata": {
        "id": "Jkc6Ej2olV41"
      },
      "execution_count": null,
      "outputs": []
    },
    {
      "cell_type": "code",
      "source": [
        "x_train = train_datagen.flow_from_directory(r'/content/drive/MyDrive/Dataset/train',\n",
        "                                            target_size=(64, 64),\n",
        "                                            batch_size=3,\n",
        "                                            color_mode='grayscale',\n",
        "                                            class_mode='categorical')\n",
        "x_test = test_datagen.flow_from_directory(r'/content/drive/MyDrive/Dataset/test',\n",
        "                                          target_size=(64, 64),\n",
        "                                          batch_size=3,\n",
        "                                          color_mode='grayscale',\n",
        "                                          class_mode='categorical') "
      ],
      "metadata": {
        "colab": {
          "base_uri": "https://localhost:8080/"
        },
        "id": "6E3prtOnlXxl",
        "outputId": "884e6c24-a888-46a9-cd2a-6de795e8d4a6"
      },
      "execution_count": null,
      "outputs": [
        {
          "output_type": "stream",
          "name": "stdout",
          "text": [
            "Found 594 images belonging to 6 classes.\n",
            "Found 30 images belonging to 6 classes.\n"
          ]
        }
      ]
    },
    {
      "cell_type": "code",
      "source": [
        "model = Sequential()"
      ],
      "metadata": {
        "id": "N4nEE5ZTloVS"
      },
      "execution_count": null,
      "outputs": []
    },
    {
      "cell_type": "code",
      "source": [
        "model.add(Convolution2D(32, (3, 3), input_shape=(64, 64, 1), activation='relu'))\n",
        "model.add(MaxPooling2D(pool_size=(2, 2)))"
      ],
      "metadata": {
        "id": "n5yJcuIblqF8"
      },
      "execution_count": null,
      "outputs": []
    },
    {
      "cell_type": "code",
      "source": [
        "model.add(Convolution2D(32, (3, 3), activation='relu'))\n",
        "model.add(MaxPooling2D(pool_size=(2,2)))"
      ],
      "metadata": {
        "id": "6Odp39eFlsXB"
      },
      "execution_count": null,
      "outputs": []
    },
    {
      "cell_type": "code",
      "source": [
        "model.add(Flatten())"
      ],
      "metadata": {
        "id": "lnlBqM7Nlu0g"
      },
      "execution_count": null,
      "outputs": []
    },
    {
      "cell_type": "code",
      "source": [
        "model.add(Dense(units=512 , activation='relu'))"
      ],
      "metadata": {
        "id": "pEwCKNvYlwRJ"
      },
      "execution_count": null,
      "outputs": []
    },
    {
      "cell_type": "code",
      "source": [
        "model.add(Dense(units=6, activation='softmax')) "
      ],
      "metadata": {
        "id": "afyf5YFolx3R"
      },
      "execution_count": null,
      "outputs": []
    },
    {
      "cell_type": "code",
      "source": [
        "model.summary()"
      ],
      "metadata": {
        "colab": {
          "base_uri": "https://localhost:8080/"
        },
        "id": "0HI_9HfGlzgC",
        "outputId": "e936b5b5-bac8-472d-97ec-4e5dbb4666c2"
      },
      "execution_count": null,
      "outputs": [
        {
          "output_type": "stream",
          "name": "stdout",
          "text": [
            "Model: \"sequential\"\n",
            "_________________________________________________________________\n",
            " Layer (type)                Output Shape              Param #   \n",
            "=================================================================\n",
            " conv2d (Conv2D)             (None, 62, 62, 32)        320       \n",
            "                                                                 \n",
            " max_pooling2d (MaxPooling2D  (None, 31, 31, 32)       0         \n",
            " )                                                               \n",
            "                                                                 \n",
            " conv2d_1 (Conv2D)           (None, 29, 29, 32)        9248      \n",
            "                                                                 \n",
            " max_pooling2d_1 (MaxPooling  (None, 14, 14, 32)       0         \n",
            " 2D)                                                             \n",
            "                                                                 \n",
            " flatten (Flatten)           (None, 6272)              0         \n",
            "                                                                 \n",
            " dense (Dense)               (None, 512)               3211776   \n",
            "                                                                 \n",
            " dense_1 (Dense)             (None, 6)                 3078      \n",
            "                                                                 \n",
            "=================================================================\n",
            "Total params: 3,224,422\n",
            "Trainable params: 3,224,422\n",
            "Non-trainable params: 0\n",
            "_________________________________________________________________\n"
          ]
        }
      ]
    },
    {
      "cell_type": "code",
      "source": [
        "model.compile(optimizer='adam', loss='categorical_crossentropy', metrics=['accuracy']) \n"
      ],
      "metadata": {
        "id": "UovuBpWBl1Ud"
      },
      "execution_count": null,
      "outputs": []
    },
    {
      "cell_type": "code",
      "source": [
        "model.fit_generator(x_train,\n",
        "                    steps_per_epoch = 594/3 , \n",
        "                    epochs = 25, \n",
        "                    validation_data = x_test,\n",
        "                    validation_steps = 30/3 )"
      ],
      "metadata": {
        "colab": {
          "base_uri": "https://localhost:8080/"
        },
        "id": "h0zTch2El5vd",
        "outputId": "63d0af75-9ef6-4597-be6c-65c5a89a1185"
      },
      "execution_count": null,
      "outputs": [
        {
          "output_type": "stream",
          "name": "stderr",
          "text": [
            "/usr/local/lib/python3.7/dist-packages/ipykernel_launcher.py:5: UserWarning: `Model.fit_generator` is deprecated and will be removed in a future version. Please use `Model.fit`, which supports generators.\n",
            "  \"\"\"\n"
          ]
        },
        {
          "output_type": "stream",
          "name": "stdout",
          "text": [
            "Epoch 1/25\n",
            "198/198 [==============================] - 19s 91ms/step - loss: 1.2684 - accuracy: 0.4933 - val_loss: 0.6432 - val_accuracy: 0.7667\n",
            "Epoch 2/25\n",
            "198/198 [==============================] - 17s 84ms/step - loss: 0.5539 - accuracy: 0.7997 - val_loss: 0.9102 - val_accuracy: 0.7000\n",
            "Epoch 3/25\n",
            "198/198 [==============================] - 19s 97ms/step - loss: 0.3928 - accuracy: 0.8434 - val_loss: 0.3690 - val_accuracy: 0.8333\n",
            "Epoch 4/25\n",
            "198/198 [==============================] - 18s 90ms/step - loss: 0.3173 - accuracy: 0.8670 - val_loss: 0.2425 - val_accuracy: 0.9667\n",
            "Epoch 5/25\n",
            "198/198 [==============================] - 17s 88ms/step - loss: 0.1971 - accuracy: 0.9226 - val_loss: 0.2907 - val_accuracy: 0.9667\n",
            "Epoch 6/25\n",
            "198/198 [==============================] - 25s 127ms/step - loss: 0.1906 - accuracy: 0.9293 - val_loss: 0.2736 - val_accuracy: 0.9667\n",
            "Epoch 7/25\n",
            "198/198 [==============================] - 23s 114ms/step - loss: 0.1494 - accuracy: 0.9461 - val_loss: 0.3782 - val_accuracy: 0.9000\n",
            "Epoch 8/25\n",
            "198/198 [==============================] - 22s 109ms/step - loss: 0.1026 - accuracy: 0.9663 - val_loss: 0.4158 - val_accuracy: 0.9333\n",
            "Epoch 9/25\n",
            "198/198 [==============================] - 17s 87ms/step - loss: 0.1031 - accuracy: 0.9630 - val_loss: 0.3713 - val_accuracy: 0.9333\n",
            "Epoch 10/25\n",
            "198/198 [==============================] - 20s 102ms/step - loss: 0.0942 - accuracy: 0.9663 - val_loss: 0.2262 - val_accuracy: 0.9000\n",
            "Epoch 11/25\n",
            "198/198 [==============================] - 17s 87ms/step - loss: 0.1016 - accuracy: 0.9714 - val_loss: 0.4809 - val_accuracy: 0.9000\n",
            "Epoch 12/25\n",
            "198/198 [==============================] - 17s 83ms/step - loss: 0.0986 - accuracy: 0.9697 - val_loss: 0.2576 - val_accuracy: 0.9667\n",
            "Epoch 13/25\n",
            "198/198 [==============================] - 18s 92ms/step - loss: 0.0399 - accuracy: 0.9899 - val_loss: 0.2708 - val_accuracy: 0.9667\n",
            "Epoch 14/25\n",
            "198/198 [==============================] - 17s 84ms/step - loss: 0.0528 - accuracy: 0.9781 - val_loss: 0.4348 - val_accuracy: 0.9333\n",
            "Epoch 15/25\n",
            "198/198 [==============================] - 17s 86ms/step - loss: 0.0518 - accuracy: 0.9848 - val_loss: 0.3074 - val_accuracy: 0.9667\n",
            "Epoch 16/25\n",
            "198/198 [==============================] - 17s 88ms/step - loss: 0.0175 - accuracy: 0.9933 - val_loss: 0.2950 - val_accuracy: 0.9667\n",
            "Epoch 17/25\n",
            "198/198 [==============================] - 17s 84ms/step - loss: 0.0352 - accuracy: 0.9848 - val_loss: 0.3872 - val_accuracy: 0.9000\n",
            "Epoch 18/25\n",
            "198/198 [==============================] - 17s 84ms/step - loss: 0.0834 - accuracy: 0.9714 - val_loss: 0.4091 - val_accuracy: 0.9000\n",
            "Epoch 19/25\n",
            "198/198 [==============================] - 17s 85ms/step - loss: 0.1327 - accuracy: 0.9663 - val_loss: 0.3525 - val_accuracy: 0.9333\n",
            "Epoch 20/25\n",
            "198/198 [==============================] - 18s 90ms/step - loss: 0.0296 - accuracy: 0.9899 - val_loss: 0.2490 - val_accuracy: 0.9333\n",
            "Epoch 21/25\n",
            "198/198 [==============================] - 18s 91ms/step - loss: 0.0551 - accuracy: 0.9832 - val_loss: 0.2296 - val_accuracy: 0.9333\n",
            "Epoch 22/25\n",
            "198/198 [==============================] - 17s 84ms/step - loss: 0.0122 - accuracy: 0.9949 - val_loss: 0.4711 - val_accuracy: 0.9333\n",
            "Epoch 23/25\n",
            "198/198 [==============================] - 18s 91ms/step - loss: 0.0273 - accuracy: 0.9933 - val_loss: 0.8243 - val_accuracy: 0.8667\n",
            "Epoch 24/25\n",
            "198/198 [==============================] - 17s 85ms/step - loss: 0.0027 - accuracy: 1.0000 - val_loss: 0.5748 - val_accuracy: 0.9333\n",
            "Epoch 25/25\n",
            "198/198 [==============================] - 17s 85ms/step - loss: 0.0043 - accuracy: 1.0000 - val_loss: 0.6029 - val_accuracy: 0.9333\n"
          ]
        },
        {
          "output_type": "execute_result",
          "data": {
            "text/plain": [
              "<keras.callbacks.History at 0x7f8a6f445950>"
            ]
          },
          "metadata": {},
          "execution_count": 22
        }
      ]
    },
    {
      "cell_type": "code",
      "source": [
        "model.save('Gesture.h5')"
      ],
      "metadata": {
        "id": "t83toKL_l8H5"
      },
      "execution_count": null,
      "outputs": []
    },
    {
      "cell_type": "code",
      "source": [
        "model_json = model.to_json()\n",
        "with open(\"model-bw.json\", \"w\") as json_file:\n",
        "    json_file.write(model_json)"
      ],
      "metadata": {
        "id": "qc4027vOl-Sg"
      },
      "execution_count": null,
      "outputs": []
    }
  ]
}